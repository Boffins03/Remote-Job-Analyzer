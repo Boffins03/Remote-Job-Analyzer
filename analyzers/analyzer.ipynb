{
 "cells": [
  {
   "cell_type": "markdown",
   "id": "820fc253",
   "metadata": {},
   "source": [
    "# Import Required Libraries\n",
    "Import pandas for data manipulation and matplotlib for visualization."
   ]
  },
  {
   "cell_type": "code",
   "execution_count": null,
   "id": "fe137a32",
   "metadata": {},
   "outputs": [],
   "source": [
    "import pandas as pd\n",
    "import matplotlib.pyplot as plt"
   ]
  },
  {
   "cell_type": "markdown",
   "id": "3ef3f607",
   "metadata": {},
   "source": [
    "# Load the Dataset\n",
    "Read the processed jobs.csv file into a pandas DataFrame."
   ]
  },
  {
   "cell_type": "code",
   "execution_count": null,
   "id": "47067d2c",
   "metadata": {},
   "outputs": [],
   "source": [
    "data = pd.read_csv(\"../data/processed/jobs.csv\")"
   ]
  },
  {
   "cell_type": "markdown",
   "id": "82b003bf",
   "metadata": {},
   "source": [
    "# Identify Top Hiring Companies\n",
    "Group the data by company name and count the number of job postings for each. Sort and select the top N companies."
   ]
  },
  {
   "cell_type": "code",
   "execution_count": null,
   "id": "b1af0cf0",
   "metadata": {},
   "outputs": [],
   "source": [
    "top_n = 10  # You can adjust this value as needed\n",
    "company_counts = data['company_name'].value_counts().head(top_n)\n",
    "top_companies = company_counts.index.tolist()"
   ]
  },
  {
   "cell_type": "markdown",
   "id": "8b72b951",
   "metadata": {},
   "source": [
    "# Calculate Average Salary Range per Company\n",
    "For each top company, calculate the average of the salary range columns (e.g., average of min and max salary if available)."
   ]
  },
  {
   "cell_type": "code",
   "execution_count": null,
   "id": "2a651254",
   "metadata": {},
   "outputs": [],
   "source": [
    "# Assuming the dataset has 'salary_min' and 'salary_max' columns\n",
    "salary_stats = (\n",
    "    data[data['company_name'].isin(top_companies)]\n",
    "    .groupby('company_name')[['salary_min', 'salary_max']]\n",
    "    .mean()\n",
    "    .reset_index()\n",
    ")\n",
    "salary_stats['average_salary'] = salary_stats[['salary_min', 'salary_max']].mean(axis=1)"
   ]
  },
  {
   "cell_type": "markdown",
   "id": "83020c3a",
   "metadata": {},
   "source": [
    "# Analyze Job Locations\n",
    "Extract and count the most common job locations for the top hiring companies."
   ]
  },
  {
   "cell_type": "code",
   "execution_count": null,
   "id": "e090d89e",
   "metadata": {},
   "outputs": [],
   "source": [
    "location_counts = (\n",
    "    data[data['company_name'].isin(top_companies)]\n",
    "    .groupby('company_name')['location']\n",
    "    .value_counts()\n",
    "    .groupby(level=0)\n",
    "    .head(1)\n",
    "    .reset_index(level=0)\n",
    ")\n",
    "location_counts = location_counts.rename(columns={'location': 'top_location', 'count': 'job_count'})"
   ]
  },
  {
   "cell_type": "markdown",
   "id": "223b9c3b",
   "metadata": {},
   "source": [
    "# Visualize Top Hiring Companies\n",
    "Create a bar chart showing the number of job postings for the top hiring companies."
   ]
  },
  {
   "cell_type": "code",
   "execution_count": null,
   "id": "0fabc447",
   "metadata": {},
   "outputs": [],
   "source": [
    "plt.figure(figsize=(10, 6))\n",
    "company_counts.plot(kind='bar', color='teal')\n",
    "plt.title('Top Hiring Companies by Number of Job Postings')\n",
    "plt.xlabel('Company Name')\n",
    "plt.ylabel('Number of Job Postings')\n",
    "plt.xticks(rotation=45, ha='right')\n",
    "plt.tight_layout()\n",
    "plt.show()"
   ]
  },
  {
   "cell_type": "markdown",
   "id": "944ea6db",
   "metadata": {},
   "source": [
    "# Visualize Average Salary Range by Company\n",
    "Create a bar chart of the average salary range for each of the top hiring companies."
   ]
  },
  {
   "cell_type": "code",
   "execution_count": null,
   "id": "73b26955",
   "metadata": {},
   "outputs": [],
   "source": [
    "plt.figure(figsize=(10, 6))\n",
    "plt.bar(salary_stats['company_name'], salary_stats['average_salary'], color='orange')\n",
    "plt.title('Average Salary Range by Top Hiring Companies')\n",
    "plt.xlabel('Company Name')\n",
    "plt.ylabel('Average Salary')\n",
    "plt.xticks(rotation=45, ha='right')\n",
    "plt.tight_layout()\n",
    "plt.show()"
   ]
  },
  {
   "cell_type": "markdown",
   "id": "cbfeb404",
   "metadata": {},
   "source": [
    "# Visualize Job Locations Distribution\n",
    "Create a bar chart or pie chart showing the distribution of job locations among the top hiring companies."
   ]
  },
  {
   "cell_type": "code",
   "execution_count": null,
   "id": "88265260",
   "metadata": {},
   "outputs": [],
   "source": [
    "# Count the top locations for each company\n",
    "top_locations = (\n",
    "    data[data['company_name'].isin(top_companies)]\n",
    "    .groupby('location')\n",
    "    .size()\n",
    "    .sort_values(ascending=False)\n",
    "    .head(10)\n",
    ")\n",
    "\n",
    "plt.figure(figsize=(10, 6))\n",
    "top_locations.plot(kind='bar', color='purple')\n",
    "plt.title('Top Job Locations Among Top Hiring Companies')\n",
    "plt.xlabel('Location')\n",
    "plt.ylabel('Number of Job Postings')\n",
    "plt.xticks(rotation=45, ha='right')\n",
    "plt.tight_layout()\n",
    "plt.show()"
   ]
  }
 ],
 "metadata": {
  "language_info": {
   "name": "python"
  }
 },
 "nbformat": 4,
 "nbformat_minor": 5
}
